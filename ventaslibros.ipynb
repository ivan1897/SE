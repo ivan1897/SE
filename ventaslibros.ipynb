{
 "cells": [
  {
   "cell_type": "markdown",
   "metadata": {},
   "source": [
    "Optimizacion de Codigo, Ejemplo 1: Identificacion de Ventas en un periodo\n",
    "Generar metricas de desempeño es una tarea muy frecuente en cualquier ambito de negocio, el siguiente codigo fue escrito para identificar qué libros fueron vendidos a partir de un listado especifico:"
   ]
  },
  {
   "cell_type": "code",
   "execution_count": 1,
   "metadata": {},
   "outputs": [],
   "source": [
    "import time\n",
    "import pandas as pd\n",
    "import numpy as np"
   ]
  },
  {
   "cell_type": "code",
   "execution_count": 2,
   "metadata": {},
   "outputs": [],
   "source": [
    "with open('libros_24_meses.txt') as f:\n",
    "    periodo24_ventas_libros = f.read().split('\\n')\n",
    "    \n",
    "with open('catalogo_libros.txt') as f:\n",
    "    catalogo_libros = f.read().split('\\n')"
   ]
  },
  {
   "cell_type": "code",
   "execution_count": 3,
   "metadata": {},
   "outputs": [
    {
     "name": "stdout",
     "output_type": "stream",
     "text": [
      "96\n",
      "Duracion: 11.564064025878906 segundos\n"
     ]
    }
   ],
   "source": [
    "inicio = time.time()\n",
    "libros_vendidos = []\n",
    "\n",
    "for libro in periodo24_ventas_libros:\n",
    "    if libro in catalogo_libros:\n",
    "        libros_vendidos.append(libro)\n",
    "\n",
    "print(len(libros_vendidos))\n",
    "print('Duracion: {} segundos'.format(time.time() - inicio))"
   ]
  },
  {
   "cell_type": "markdown",
   "metadata": {},
   "source": [
    "Asignacion 1: Despues de analizar el codigo fuente, se propone sustituir el uso de for por una interseccion mediante la libreria numpy para optimizar el tiempo"
   ]
  },
  {
   "cell_type": "code",
   "execution_count": 4,
   "metadata": {},
   "outputs": [
    {
     "name": "stdout",
     "output_type": "stream",
     "text": [
      "96\n",
      "Duracion: 11.613988637924194 segundos\n"
     ]
    }
   ],
   "source": [
    "libros_vendidos = np.intersect1d(periodo24_ventas_libros, catalogo_libros)\n",
    "print(len(libros_vendidos))\n",
    "print('Duracion: {} segundos'.format(time.time() - inicio))"
   ]
  },
  {
   "cell_type": "markdown",
   "metadata": {},
   "source": [
    "Asignacion 2: Mediante uso de listas, definimos las listas en las variables first_list y second_list, luego mediante el metodo intersection, llamariamos a los datos que se intersectan en ambas listas y quedarian almacenados en la variable libros_vendidos, para luego poder imprimir los resultados. "
   ]
  },
  {
   "cell_type": "code",
   "execution_count": 7,
   "metadata": {
    "scrolled": true
   },
   "outputs": [
    {
     "name": "stdout",
     "output_type": "stream",
     "text": [
      "96\n",
      "Duracion: 0.005983114242553711 segundos\n"
     ]
    }
   ],
   "source": [
    "inicio = time.time()\n",
    "first_list = set(periodo24_ventas_libros)\n",
    "second_list = set(catalogo_libros)\n",
    "                  \n",
    "libros_vendidos = first_list.intersection(second_list)\n",
    "\n",
    "print(len(libros_vendidos))\n",
    "print('Duracion: {} segundos'.format(time.time() - inicio))\n",
    "\n"
   ]
  }
 ],
 "metadata": {
  "kernelspec": {
   "display_name": "Python 3",
   "language": "python",
   "name": "python3"
  },
  "language_info": {
   "codemirror_mode": {
    "name": "ipython",
    "version": 3
   },
   "file_extension": ".py",
   "mimetype": "text/x-python",
   "name": "python",
   "nbconvert_exporter": "python",
   "pygments_lexer": "ipython3",
   "version": "3.8.3"
  }
 },
 "nbformat": 4,
 "nbformat_minor": 2
}
