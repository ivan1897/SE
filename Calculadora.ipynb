{
 "cells": [
  {
   "cell_type": "markdown",
   "metadata": {},
   "source": [
    "El código creado sirve como una calculadora que puede procesar las operaciones basicas (suma, resta, multiplicacion y division).\n",
    "Tambien puede calcular la potencia y la raiz cuadrada de un numero. Mediante un menu, el usuario puede elegir la operación a realizar,\n",
    "luego de elegir la opción, el sistema pedira al usuario que ingrese dos numeros, exceptuando el caso que elija calcular la raiz cuadrada,\n",
    "porque ahi solo es necesario ingresar un numero, el usuario decida salir de la calculadora, o en dado caso de que se ingrese un valor incorrecto. Despues de ingresar los numeros, el sistema mostraria el resultado de la operación y el bucle se repetira hasta que el usuario decida escoger la opcion de salir de la calculadora."
   ]
  },
  {
   "cell_type": "markdown",
   "metadata": {},
   "source": [
    "####  Se ocupa la libreria math para poder calcular la raiz cuadrada"
   ]
  },
  {
   "cell_type": "code",
   "execution_count": 1,
   "metadata": {},
   "outputs": [],
   "source": [
    "import math "
   ]
  },
  {
   "cell_type": "markdown",
   "metadata": {},
   "source": [
    "#### En esta funcion se almacena el valor que sera utilizado para seleccionar la opcion del menu"
   ]
  },
  {
   "cell_type": "code",
   "execution_count": 2,
   "metadata": {},
   "outputs": [],
   "source": [
    "def opcion():\n",
    "    \n",
    "    while(True):\n",
    "        try:\n",
    "            numero = int(input(\"Introduce un numero entero para elegir la operación que deseas realizar \"))\n",
    "            break\n",
    "        except:\n",
    "            print (\"Ingresaste un valor que no es correcto\")\n",
    "                    \n",
    "    return numero    \n",
    "            \n",
    "           "
   ]
  },
  {
   "cell_type": "markdown",
   "metadata": {},
   "source": [
    "#### En esta funcion se ejecuta la calculadora, ejecutando la accion correspondiente a la seleccion del usuario"
   ]
  },
  {
   "cell_type": "code",
   "execution_count": null,
   "metadata": {},
   "outputs": [
    {
     "name": "stdout",
     "output_type": "stream",
     "text": [
      "1. suma\n",
      "2. resta\n",
      "3. multiplicacion\n",
      "4. division\n",
      "5. Potencia\n",
      "6. Raiz cuadrada\n",
      "7. salir\n",
      "Elija una opcion\n",
      "Introduce un numero entero para elegir la operación que deseas realizar gfdgd\n",
      "Ingresaste un valor que no es correcto\n",
      "Introduce un numero entero para elegir la operación que deseas realizar 2\n",
      "Ingrese cualquier numero fsd\n",
      "Ingresaste un valor no valido, intenta denuevo\n",
      "Introduce un numero entero para elegir la operación que deseas realizar 3\n",
      "Ingrese cualquier numero fds\n",
      "Ingresaste un valor no valido, intenta denuevo\n",
      "Introduce un numero entero para elegir la operación que deseas realizar 4\n",
      "Ingrese cualquier numero 5\n",
      "Ingrese cualquier otro numero 0\n",
      "No se permite la division entre 0\n"
     ]
    }
   ],
   "source": [
    "def cal():\n",
    "    \n",
    "    salir = False\n",
    "    opc = 0\n",
    "\n",
    "    print (\"1. suma\")\n",
    "    print (\"2. resta\")\n",
    "    print (\"3. multiplicacion\")\n",
    "    print (\"4. division\")\n",
    "    print (\"5. Potencia\")\n",
    "    print (\"6. Raiz cuadrada\")\n",
    "    print (\"7. salir\")\n",
    "\n",
    "    print (\"Elija una opcion\")\n",
    "\n",
    "    \n",
    "    while (not salir):\n",
    "     \n",
    "        opc = opcion()\n",
    "    \n",
    "        if (opc == 7):\n",
    "            salir = True\n",
    "            print (\"Saliste de la calculadora\")\n",
    "            break\n",
    "        elif (opc <=0 or opc >=8):\n",
    "            print (\"Debes ingresar una de las opciones que se te ha dado, intenta denuevo\")\n",
    "            cal()\n",
    "            break           \n",
    "                  \n",
    "        \n",
    "        \n",
    "    \n",
    "        try:\n",
    "            if (opc == 6):\n",
    "                n1 = float(input(\"Ingrese cualquier numero \"))\n",
    "            else:\n",
    "                n1 = float(input(\"Ingrese cualquier numero \"))\n",
    "                n2 = float(input(\"Ingrese cualquier otro numero \"))\n",
    "        \n",
    "             \n",
    "          \n",
    "            if (opc == 1):\n",
    "                print (\"El resultado de la suma es\", n1+n2)\n",
    "            elif (opc == 2):\n",
    "                print (\"El resultado de la resta es\", n1-n2)\n",
    "            elif (opc == 3):\n",
    "                print (\"El resultado de la multiplicacion es\", n1*n2)\n",
    "            elif (opc == 4):\n",
    "                try:\n",
    "                    print (\"El resultado de la division es\", n1/n2)\n",
    "                except ZeroDivisionError:\n",
    "                    print (\"No se permite la division entre 0\")                \n",
    "            elif (opc == 5):                \n",
    "                print (\"El resultado de \",n1, \"elevado a la potencia \", n2, \"es \", n1**n2)\n",
    "            \n",
    "            elif (opc == 6):                \n",
    "                print (\"La raiz cuadrada de\", n1, \"es \", math.sqrt(n1))\n",
    "                \n",
    "        except:\n",
    "            print (\"Ingresaste un valor no valido, intenta denuevo\")\n",
    "    \n",
    "cal()    "
   ]
  }
 ],
 "metadata": {
  "kernelspec": {
   "display_name": "Python 3",
   "language": "python",
   "name": "python3"
  },
  "language_info": {
   "codemirror_mode": {
    "name": "ipython",
    "version": 3
   },
   "file_extension": ".py",
   "mimetype": "text/x-python",
   "name": "python",
   "nbconvert_exporter": "python",
   "pygments_lexer": "ipython3",
   "version": "3.8.3"
  }
 },
 "nbformat": 4,
 "nbformat_minor": 4
}
