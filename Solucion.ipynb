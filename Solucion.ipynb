{
 "cells": [
  {
   "cell_type": "markdown",
   "metadata": {},
   "source": [
    "Ejercicio 3: Una tienda de ventas en línea tiene un millon de usuarios, cada uno tiene una selección en su lista de\n",
    "deseos, el precio de venta de cada uno de las selecciones está almacenada en el archivo “costos.txt”\n",
    "(disponible en el repositorio del facilitador de la materia).\n",
    "\n",
    "Como estrategia de fidelización de clientes, para la festividad de la natividad del 2020 la compañía va a\n",
    "regalar a cada cliente la selección si ésta tiene un costo menor a $25. Se solicita que codifique una\n",
    "solución para determinar el monto que la compañía va a internir en esta campaña. Deberá codificar al\n",
    "menos 2 soluciones para que el cliente pueda seleccionar la idónea basada en un indicador de\n",
    "desempeño en términos de tiempo.\n"
   ]
  },
  {
   "cell_type": "markdown",
   "metadata": {},
   "source": [
    "#### El primer paso seria llamar las librerias que se utilizarian en el ejercicio, como time y numpy"
   ]
  },
  {
   "cell_type": "code",
   "execution_count": 23,
   "metadata": {},
   "outputs": [],
   "source": [
    "import time\n",
    "import numpy as np"
   ]
  },
  {
   "cell_type": "markdown",
   "metadata": {},
   "source": [
    "Solución 1: La primera solucion del ejercicio seria hacer uso de la libreria numpy para obtener los datos del archivo de texto costos.txt, luego de obtener los datos, se crea una lista con la condicion de que los datos que se almacenan tienen que ser menor que 25, ya que la empresa busca regalar una seleccion con un costo menor a $25. Luego de obtener nuestra lista, se procede a sumar los datos de la lsita, para si poder saber cuando seria el gasto de la empresa. "
   ]
  },
  {
   "cell_type": "markdown",
   "metadata": {},
   "source": [
    "#### Haciendo uso de numpy, se procede a obtener los datos del archivo de texto"
   ]
  },
  {
   "cell_type": "code",
   "execution_count": 11,
   "metadata": {},
   "outputs": [
    {
     "name": "stdout",
     "output_type": "stream",
     "text": [
      "[ 8. 84. 42. ... 59. 12. 12.]\n"
     ]
    }
   ],
   "source": [
    "data = np.genfromtxt('costos.txt', delimiter=',')\n",
    "print(data)/"
   ]
  },
  {
   "cell_type": "markdown",
   "metadata": {},
   "source": [
    "#### Haciendo uso de una lista, se agregan los datos que son menores a 25, y mediante el uso de numpy se sumarian los datos dentro de la lista. Luego se imprime el total de la suma, mostrandonos cuanto tendra que invertir la compañia."
   ]
  },
  {
   "cell_type": "code",
   "execution_count": 14,
   "metadata": {},
   "outputs": [
    {
     "name": "stdout",
     "output_type": "stream",
     "text": [
      "Duracion: 0.0668485164642334 segundos\n",
      "Total: $30338353.0\n"
     ]
    }
   ],
   "source": [
    "start = time.time()\n",
    "lista = data[data < 25]\n",
    "result= np.sum(lista)\n",
    "print('Duracion: {} segundos'.format(time.time() - start ))\n",
    "print (\"Total: $\" + str(result))"
   ]
  },
  {
   "cell_type": "markdown",
   "metadata": {},
   "source": [
    "Solución 2: La segunda solución seria utilizando solo codigo python sin ninguna libreria, haciendo uso de with open, llamariamos los datos del archivo de texto y los definiriamos en la variable costo. Luego en la variable costos_producto se define que todos los datos almacenados seran de tipo int.\n",
    "Despues de obtener los datos, se procede a crear una lista vacia, para que mediante el metodo for lea todos los datos almacenado en la variable costos_producto y si estos datos son menores a 25, estos se almacenarian en la lista \"tienda\" para que luesgo se pueda imprimir la suma de todos los valores dentro de la lista. "
   ]
  },
  {
   "cell_type": "code",
   "execution_count": 26,
   "metadata": {},
   "outputs": [
    {
     "name": "stdout",
     "output_type": "stream",
     "text": [
      "Total: $30338353\n",
      "Duracion: 1.9650506973266602 segundos\n"
     ]
    }
   ],
   "source": [
    "with open('costos.txt') as costo:\n",
    "    costos_producto =  map(int, costo.read().split('\\n'))\n",
    "inicio =time.time()\n",
    "tienda = []\n",
    "for item in costos_producto: \n",
    "    if item < 25:\n",
    "        tienda.append(item)\n",
    "print (\"Total: $\" + str(sum(tienda)))\n",
    "print ('Duracion: {} segundos'.format(time.time() - inicio))"
   ]
  }
 ],
 "metadata": {
  "kernelspec": {
   "display_name": "Python 3",
   "language": "python",
   "name": "python3"
  },
  "language_info": {
   "codemirror_mode": {
    "name": "ipython",
    "version": 3
   },
   "file_extension": ".py",
   "mimetype": "text/x-python",
   "name": "python",
   "nbconvert_exporter": "python",
   "pygments_lexer": "ipython3",
   "version": "3.8.3"
  }
 },
 "nbformat": 4,
 "nbformat_minor": 4
}
